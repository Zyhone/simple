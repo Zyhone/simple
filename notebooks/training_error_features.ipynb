{
 "cells": [
  {
   "cell_type": "code",
   "execution_count": 1,
   "metadata": {},
   "outputs": [],
   "source": [
    "import cv2\n",
    "import numpy as np\n",
    "import pandas as pd\n",
    "from scipy.stats import skew\n",
    "from scipy.stats import kurtosis\n",
    "from scipy.stats import entropy"
   ]
  },
  {
   "cell_type": "code",
   "execution_count": null,
   "metadata": {},
   "outputs": [],
   "source": [
    "def retrieve_features (result_df):\n",
    "    for i, row in result_df.iterrows():\n",
    "        path = row['Image Path']\n",
    "        image = cv2.imread(path)\n",
    "\n",
    "        flat = image.flatten()\n",
    "        flat = flat[~np.isnan(flat)]\n",
    "\n",
    "        hist, _ = np.histogram(flat, bins=256, range=(0, 255))\n",
    "        hist = hist / np.sum(hist)\n",
    "\n",
    "        entropy_val = entropy(hist, base=2)\n",
    "\n",
    "        mean = np.mean(flat)\n",
    "        stdev = np.std(flat)\n",
    "\n",
    "        kurt = (kurtosis(flat)) - 3\n",
    "\n",
    "        skewness = skew(flat)\n",
    "\n",
    "        result_df.at[i, 'Mean', 'Entropy', 'StandardDeviation', 'Kurtosis', 'Skewness'] = mean, entropy_val, stdev, kurt, skewness\n",
    "\n",
    "    return result_df"
   ]
  },
  {
   "cell_type": "code",
   "execution_count": null,
   "metadata": {},
   "outputs": [],
   "source": [
    "result_df = pd.read_excel(\"<path>\")\n",
    "result_df = retrieve_features(result_df)"
   ]
  }
 ],
 "metadata": {
  "kernelspec": {
   "display_name": "code",
   "language": "python",
   "name": "python3"
  },
  "language_info": {
   "codemirror_mode": {
    "name": "ipython",
    "version": 3
   },
   "file_extension": ".py",
   "mimetype": "text/x-python",
   "name": "python",
   "nbconvert_exporter": "python",
   "pygments_lexer": "ipython3",
   "version": "3.10.14"
  }
 },
 "nbformat": 4,
 "nbformat_minor": 2
}
